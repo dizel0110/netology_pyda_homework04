{
 "cells": [
  {
   "cell_type": "markdown",
   "metadata": {},
   "source": [
    "## Задание 1"
   ]
  },
  {
   "cell_type": "markdown",
   "metadata": {},
   "source": [
    "Дан список вида:"
   ]
  },
  {
   "cell_type": "code",
   "execution_count": 26,
   "metadata": {},
   "outputs": [],
   "source": [
    "data = [\n",
    "    [13, 25, 23, 34],\n",
    "    [45, 32, 44, 47],\n",
    "    [12, 33, 23, 95],\n",
    "    [13, 53, 34, 35]\n",
    "]"
   ]
  },
  {
   "cell_type": "markdown",
   "metadata": {},
   "source": [
    "Напишите функцию, которая возвращает сумму элементов на диагонали. Т. е. 13+32+23+35.  \n",
    "Список может быть любой длины, но всегда является \"квадратным\" (количество элементов во вложенных списках равно их количеству)."
   ]
  },
  {
   "cell_type": "code",
   "execution_count": 4,
   "metadata": {},
   "outputs": [
    {
     "name": "stdout",
     "output_type": "stream",
     "text": [
      "103\n"
     ]
    }
   ],
   "source": [
    "def sumMatrix(matrix):\n",
    "    sum = 0\n",
    "    for i in range(len(matrix)):\n",
    "        sum += matrix[i][i]\n",
    "    return sum\n",
    "print(sumMatrix(data))"
   ]
  },
  {
   "cell_type": "markdown",
   "metadata": {},
   "source": [
    "## Задание 2"
   ]
  },
  {
   "cell_type": "markdown",
   "metadata": {},
   "source": [
    "Напишите функцию, возвращающую сумму первых n чисел Фибоначчи (для этого вам может понадобится ознакомиться с рекурсией)."
   ]
  },
  {
   "cell_type": "code",
   "execution_count": 74,
   "metadata": {},
   "outputs": [
    {
     "name": "stdout",
     "output_type": "stream",
     "text": [
      "Введите количество первых чисел Фибоначчи:10\n",
      "Сумма первых 10 чисел Фибоначчи: 143\n"
     ]
    }
   ],
   "source": [
    "n = int(input('Введите количество первых чисел Фибоначчи: '))\n",
    "def fibonacci(n):\n",
    "    if n in (1, 2):\n",
    "        return 1\n",
    "    return fibonacci(n - 1) + fibonacci(n - 2)\n",
    "# print(fibonacci(10))\n",
    "\n",
    "def sum_fib(n):\n",
    "    sum = 0\n",
    "    count = n\n",
    "    while count > 0:\n",
    "        sum += fibonacci(count)\n",
    "        count -=1\n",
    "    return sum\n",
    "    \n",
    "# print(fibonacci(n), sum_fib(n))\n",
    "\n",
    "print('Сумма первых', n, 'чисел Фибоначчи:', sum_fib(n))"
   ]
  },
  {
   "cell_type": "markdown",
   "metadata": {},
   "source": [
    "## Задание 3\n"
   ]
  },
  {
   "cell_type": "markdown",
   "metadata": {},
   "source": [
    "Напишите функцию, преобразующую произвольный список вида ['2018-01-01', 'yandex', 'cpc', 100] (он может быть любой длины) в словарь {'2018-01-01': {'yandex': {'cpc': 100}}}"
   ]
  },
  {
   "cell_type": "code",
   "execution_count": 59,
   "metadata": {},
   "outputs": [
    {
     "name": "stdout",
     "output_type": "stream",
     "text": [
      "{'alpha': {'datuti': {'2018-01-01': {'yandex': {'cpc': 100}}}}}\n"
     ]
    }
   ],
   "source": [
    "# data = ['cpc', 100]\n",
    "# data = ['yandex', 'cpc', 100]\n",
    "# data = ['2018-01-01', 'yandex', 'cpc', 100]\n",
    "# data = ['datuti','2018-01-01', 'yandex', 'cpc', 100]\n",
    "data = ['alpha','datuti','2018-01-01', 'yandex', 'cpc', 100] # и так далее\n",
    "\n",
    "# Работает со всеми списками длиной больше двух. Как и требовалось по условию.\n",
    "\n",
    "def dind(a):\n",
    "    last = len(a)\n",
    "    count = last - 1\n",
    "    result = {a[last-2]: a[last - 1]}\n",
    "    while count > 1:\n",
    "        result = {a[count-2]: result}\n",
    "        count -=1\n",
    "    return result\n",
    "\n",
    "print(dind(data))\n",
    "    "
   ]
  },
  {
   "cell_type": "markdown",
   "metadata": {},
   "source": [
    "## Задание 4"
   ]
  },
  {
   "cell_type": "markdown",
   "metadata": {},
   "source": [
    "Вы работаете секретарем и вам постоянно приходят различные документы. Вы должны быть очень внимательны, чтобы не потерять ни один документ. Каталог документов хранится в следующем виде:"
   ]
  },
  {
   "cell_type": "code",
   "execution_count": 1,
   "metadata": {},
   "outputs": [],
   "source": [
    "documents = [\n",
    "    {'type': 'passport', 'number': '2207 876234', 'name': 'Василий Гупкин'},\n",
    "    {'type': 'invoice', 'number': '11-2', 'name': 'Геннадий Покемонов'},\n",
    "    {'type': 'insurance', 'number': '10006', 'name': 'Аристарх Павлов'}\n",
    "]"
   ]
  },
  {
   "cell_type": "markdown",
   "metadata": {},
   "source": [
    "Перечень полок, на которых находятся документы хранится в следующем виде:"
   ]
  },
  {
   "cell_type": "code",
   "execution_count": 2,
   "metadata": {},
   "outputs": [],
   "source": [
    "directories = {\n",
    "    '1': ['2207 876234', '11-2', '5455 028765'],\n",
    "    '2': ['10006', '5400 028765', '5455 002299'],\n",
    "    '3': []\n",
    "}"
   ]
  },
  {
   "cell_type": "markdown",
   "metadata": {},
   "source": [
    "Необходимо реализовать пользовательские команды (внимание! это не название функций, которые должны быть выразительными, а команды, которые вводит пользователь, чтобы получить необходимый результат):\n",
    "  \n",
    "- p – people – команда, которая спросит номер документа и выведет имя человека, которому он принадлежит;  \n",
    "- s – shelf – команда, которая спросит номер документа и выведет номер полки, на которой он находится  \n",
    "Правильно обработайте ситуацию, когда пользователь будет вводить несуществующий документ.\n",
    "- l – list – команда, которая выведет список всех документов в формате   \n",
    "**passport \"2207 876234\" \"Василий Гупкин\"**  \n",
    "- as – add shelf – команда, которая спросит номер новой полки и добавит ее в перечень\n",
    "- d – delete – команда, которая спросит номер документа и удалит его из каталога и из перечня полок. Предусмотрите сценарий, когда пользователь вводит несуществующий документ;  \n",
    "- m – move – команда, которая спросит номер документа и целевую полку и переместит его с текущей полки на целевую. Корректно обработайте кейсы, когда пользователь пытается переместить несуществующий документ или переместить документ на несуществующую полку;  \n",
    "- a – add – команда, которая добавит новый документ в каталог и в перечень полок, спросив его номер, тип, имя владельца и номер полки, на котором он будет храниться."
   ]
  },
  {
   "cell_type": "code",
   "execution_count": null,
   "metadata": {},
   "outputs": [],
   "source": []
  },
  {
   "cell_type": "code",
   "execution_count": null,
   "metadata": {},
   "outputs": [],
   "source": [
    "    Не стал в качестве последней строчки у каждой из функций добавлять вызов основной\n",
    "функции main(). Иногда возвращал просто True или False. Но осмысленно.\n",
    "Иногда ничего не возвращал. Также и по аргументам к фукнциям\n",
    "(без параметров, либо один, либо два - в зависимости от условия задачи, да для меня в новинку).\n",
    "Вопросов правильных возникает столь много при выполнении,\n",
    "что понимаешь, - пора выкладывать решение. А ответы прийдут.\n",
    "\n",
    "    По идее 4 задача домашнего задания своего рода\n",
    "отладка 'кода и пройдённого материала', а Вы подскажите,\n",
    "где хорошо, а где можно ещё лучше, но, возможно, не надо.)))\n",
    "\n",
    "   Вначале я слил всё вместе и тем самым представил решение задачи,\n",
    "а ещё ниже выполнил каждую из фукнций в отдельном окне,\n",
    "контролируя данные на входе.\n",
    "\n",
    "   Чтобы проверить домашку, можно просто несколько раз вызывать\n",
    "функцию main(), проверяя documents и directories на входе (!)\n",
    "\n",
    "   Очень полезная задача, к которой точно будет полезно возвращаться!!!\n",
    "    \n",
    "   Понять поведение переменных documents и directories при каждом\n",
    "вызове фукнций, включая main() и после вызова.\n",
    "Глобальные они или локальные... Как меняются."
   ]
  },
  {
   "cell_type": "code",
   "execution_count": null,
   "metadata": {},
   "outputs": [],
   "source": [
    "Решение задачи:"
   ]
  },
  {
   "cell_type": "code",
   "execution_count": 6,
   "metadata": {},
   "outputs": [],
   "source": [
    "documents = [\n",
    "    {'type': 'passport', 'number': '2207 876234', 'name': 'Василий Гупкин'},\n",
    "    {'type': 'invoice', 'number': '11-2', 'name': 'Геннадий Покемонов'},\n",
    "    {'type': 'insurance', 'number': '10006', 'name': 'Аристарх Павлов'}\n",
    "]\n",
    "\n",
    "directories = {\n",
    "    '1': ['2207 876234', '11-2', '5455 028765'],\n",
    "    '2': ['10006', '5400 028765', '5455 002299'],\n",
    "    '3': []\n",
    "}\n",
    "\n",
    "def main():\n",
    "    action = input('Введите одну из команд p s l as d m a (stop - остановить):')\n",
    "\n",
    "    if action == 'p':\n",
    "        name4doc()\n",
    "    elif action == 's':\n",
    "        shelfnumber4doc()\n",
    "    elif action == 'l':\n",
    "        list_documents(documents)\n",
    "    elif action == 'as':\n",
    "        add_shelf(directories)\n",
    "    elif action == 'd':\n",
    "        docsdirdel4doc()\n",
    "    elif action == 'm':\n",
    "        movenewshelf()\n",
    "    elif action == 'a':\n",
    "        add_newdoc()\n",
    "    elif action == 'stop':\n",
    "        return\n",
    "    else:\n",
    "        print('Неизвестная команда!')\n",
    "        main()\n",
    "        \n",
    "#команда p\n",
    "\n",
    "def name4doc():\n",
    "    numdoc = input('Введите номер документа: ')\n",
    "    for document in documents:\n",
    "        for j in range(len(document)):\n",
    "            if document.get('number') == numdoc:\n",
    "                print(document.get('name'))\n",
    "                return True\n",
    "            \n",
    "#команда s\n",
    "\n",
    "def shelfnumber4doc():\n",
    "    numdoc = input('Введите номер документа: ')\n",
    "    for directory in directories:\n",
    "        if numdoc in directories[directory]:\n",
    "            print('Документ', numdoc, 'на полке', directory)\n",
    "            return True\n",
    "    print('Такого документа нет')\n",
    "    return False\n",
    "\n",
    "#команда l\n",
    "\n",
    "def list_documents(documents):\n",
    "    dcs = []\n",
    "    for document in documents:\n",
    "        dcs = []\n",
    "        #dcs.append(document.values().split(','))\n",
    "     #   sa = document.get('type')\n",
    "        dcs.append(document.get('type'))\n",
    "        dcs.append(document.get('number'))\n",
    "        dcs.append(document.get('name'))\n",
    "        docs = ' '.join(dcs)\n",
    "        print(docs)\n",
    "        \n",
    "# команда as\n",
    "\n",
    "def add_shelf(directories):\n",
    "    lendir = len(directories)\n",
    "    print(directories.keys())\n",
    "    n = int(input('Введите номер следующей полки:'))\n",
    "    directories[str(n)] = []\n",
    "    print(directories.keys())\n",
    "    print(directories)\n",
    "    \n",
    "#команда d\n",
    "\n",
    "def docsdirdel4doc():\n",
    "    numdoc = input('Введите номер документа: ')\n",
    "    for document in documents:\n",
    "        for j in range(len(document)):\n",
    "            if document.get('number') == numdoc:\n",
    "                print('Документ с номером', numdoc, 'и данными', document, 'удаляется')\n",
    "                documents.remove(document)\n",
    "                print('Документ с номером', numdoc, 'удалён из каталога')\n",
    "                print('Убедитесь: ', documents)                \n",
    "                break\n",
    "    for directory in directories:\n",
    "        if numdoc in directories[directory]:\n",
    "            directories[directory].remove(numdoc)\n",
    "            print('Документ с номером', numdoc, 'удалён с полки', directory)\n",
    "            print('Убедитесь: ', directories[directory])\n",
    "            return True\n",
    "    print('Такого документа нет!')\n",
    "    contornot = input('Для повторной попытки введите c для прекращения s:')\n",
    "    if contornot == 'c':\n",
    "        docsdirdel4doc()\n",
    "    elif contornot == 's':\n",
    "        return True\n",
    "    print('Явно не то нажали. Попыток больше нет!')\n",
    "    return False\n",
    "\n",
    "# команда m\n",
    "\n",
    "def movenewshelf():\n",
    "    numdoc = input('Введите номер документа:') # какой тип нужен?\n",
    "    newshelf = input('Введите целевую полку:') # сравнить с функциями.\n",
    "    if int(newshelf) > len(directories):\n",
    "        print('Номер полки должен быть не больше или равен', len(directories))\n",
    "        newshelf = input('Повторно введите целевую полку:')\n",
    "# Надо найти документ по названию\n",
    "    for directory in directories:\n",
    "        if numdoc in directories[directory]:\n",
    "            directories[directory].remove(numdoc)\n",
    "            print('Документ с номером', numdoc, 'удалён с полки', directory)\n",
    "            print('Убедитесь: ', directory, directories[directory])\n",
    "            directories[str(newshelf)].append(numdoc)\n",
    "            print('Документ с номером', numdoc, 'перемещён на полку', newshelf)\n",
    "            print('Убедитесь: ', newshelf, directories[newshelf])\n",
    "            return True\n",
    "    print('Такого документа нет!')\n",
    "    contornot = input('Для повторной попытки введите c для прекращения s:')\n",
    "    if contornot == 'c':\n",
    "        docsdirdel4doc()\n",
    "    elif contornot == 's':\n",
    "        return True\n",
    "    print('Явно не то нажали. Попыток больше нет!')\n",
    "    return False\n",
    "\n",
    "def add_newdoc(documents, directories):\n",
    "    docanddir()\n",
    "    doctype = input('Введите тип документа (passport|invoice|insurance): ')\n",
    "    docnumber = input('Введите номер документа: ')\n",
    "    docname = input('Введите имя владельца: ')\n",
    "    docnumbershelf = input('Введите номер существующей полки: ')\n",
    "    documents.append({'type': doctype, 'number': docnumber, 'name': docname})\n",
    "    directories[str(docnumbershelf)].append(docnumber)\n",
    "    print(documents)\n",
    "    print(directories)\n",
    "\n",
    "# команда a\n",
    "\n",
    "def add_newdoc(documents, directories):\n",
    "    docanddir() # Внизу определил эту функцию и сюда добавил (опционально, проверить) \n",
    "    doctype = input('Введите тип документа (passport|invoice|insurance or other): ')\n",
    "    docnumber = input('Введите номер документа: ')\n",
    "    docname = input('Введите имя владельца: ')\n",
    "    docnumbershelf = input('Введите номер существующей полки: ')\n",
    "    documents.append({'type': doctype, 'number': docnumber, 'name': docname})\n",
    "    directories[str(docnumbershelf)].append(docnumber)\n",
    "    print(documents)\n",
    "    print(directories)\n",
    "    \n",
    "def docanddir():   # Показывает текущее положение дел.\n",
    "    lendoc = len(documents)\n",
    "    lendir = len(directories)\n",
    "    print('Число документов в базе: ', lendoc, 'Количество полок: ', lendir)"
   ]
  },
  {
   "cell_type": "code",
   "execution_count": 10,
   "metadata": {},
   "outputs": [
    {
     "name": "stdout",
     "output_type": "stream",
     "text": [
      "Введите одну из команд p s l as d m a (stop - остановить):d\n",
      "Введите номер документа: 5400 028765\n",
      "Документ с номером 5400 028765 удалён с полки 2\n",
      "Убедитесь:  ['10006', '5455 002299']\n"
     ]
    }
   ],
   "source": [
    "main()"
   ]
  },
  {
   "cell_type": "code",
   "execution_count": null,
   "metadata": {},
   "outputs": [],
   "source": []
  },
  {
   "cell_type": "code",
   "execution_count": null,
   "metadata": {},
   "outputs": [],
   "source": [
    "documents = [\n",
    "    {'type': 'passport', 'number': '2207 876234', 'name': 'Василий Гупкин'},\n",
    "    {'type': 'invoice', 'number': '11-2', 'name': 'Геннадий Покемонов'},\n",
    "    {'type': 'insurance', 'number': '10006', 'name': 'Аристарх Павлов'}\n",
    "]"
   ]
  },
  {
   "cell_type": "code",
   "execution_count": null,
   "metadata": {},
   "outputs": [],
   "source": [
    "directories = {\n",
    "    '1': ['2207 876234', '11-2', '5455 028765'],\n",
    "    '2': ['10006', '5400 028765', '5455 002299'],\n",
    "    '3': []\n",
    "}"
   ]
  },
  {
   "cell_type": "code",
   "execution_count": 15,
   "metadata": {},
   "outputs": [
    {
     "name": "stdout",
     "output_type": "stream",
     "text": [
      "Введите одну из команд p s l as d m a stop:gs\n",
      "Неизвестная команда, попробуйте ввести снова.\n",
      "Введите одну из команд p s l as d m a stop:as\n",
      "dict_keys(['1', '2', '3'])\n",
      "Введите номер следующей полки:4\n",
      "dict_keys(['1', '2', '3', '4'])\n",
      "{'1': ['2207 876234', '11-2', '5455 028765'], '2': ['10006', '5400 028765', '5455 002299'], '3': [], '4': []}\n"
     ]
    }
   ],
   "source": [
    "main()"
   ]
  },
  {
   "cell_type": "code",
   "execution_count": null,
   "metadata": {},
   "outputs": [],
   "source": []
  },
  {
   "cell_type": "code",
   "execution_count": null,
   "metadata": {},
   "outputs": [],
   "source": [
    "Ниже представлены все фукнции по отдельности с результатами по каждой из задач:"
   ]
  },
  {
   "cell_type": "code",
   "execution_count": null,
   "metadata": {},
   "outputs": [],
   "source": []
  },
  {
   "cell_type": "code",
   "execution_count": 126,
   "metadata": {},
   "outputs": [
    {
     "name": "stdout",
     "output_type": "stream",
     "text": [
      "Введите одну из команд p s l as d m a :l\n",
      "passport 2207 876234 Василий Гупкин\n",
      "invoice 11-2 Геннадий Покемонов\n",
      "insurance 10006 Аристарх Павлов\n"
     ]
    }
   ],
   "source": [
    "def main()\n",
    "action = input('Введите одну из команд p s l as d m a stop:')\n",
    "\n",
    "if action == 'p':\n",
    "    name4doc()\n",
    "elif action == 's':\n",
    "    shelfnumber4doc()\n",
    "elif action == 'l':\n",
    "    list_documents(documents)\n",
    "elif action == 'as':\n",
    "    add_shelf(directories)\n",
    "elif action == 'd':\n",
    "    docsdirdel4doc()\n",
    "elif action == 'm':\n",
    "    movenewshelf()\n",
    "elif action == 'a':\n",
    "    add_newdoc()\n",
    "elif action == 'stop':\n",
    "    break\n",
    "else:\n",
    "    print('Неизвестная команда, попробуйте ввести снова.')\n",
    "    main()"
   ]
  },
  {
   "cell_type": "code",
   "execution_count": null,
   "metadata": {},
   "outputs": [],
   "source": []
  },
  {
   "cell_type": "code",
   "execution_count": 6,
   "metadata": {},
   "outputs": [],
   "source": [
    "#команда p\n",
    "\n",
    "def name4doc():\n",
    "    numdoc = input('Введите номер документа: ')\n",
    "    for document in documents:\n",
    "        for j in range(len(document)):\n",
    "            if document.get('number') == numdoc:\n",
    "                print(document.get('name'))\n",
    "                return True"
   ]
  },
  {
   "cell_type": "code",
   "execution_count": 34,
   "metadata": {},
   "outputs": [
    {
     "name": "stdout",
     "output_type": "stream",
     "text": [
      "Введите номер документа: 11-2\n",
      "Геннадий Покемонов\n"
     ]
    },
    {
     "data": {
      "text/plain": [
       "True"
      ]
     },
     "execution_count": 34,
     "metadata": {},
     "output_type": "execute_result"
    }
   ],
   "source": [
    "name4doc()"
   ]
  },
  {
   "cell_type": "code",
   "execution_count": 51,
   "metadata": {},
   "outputs": [],
   "source": [
    "#команда s\n",
    "\n",
    "def shelfnumber4doc():\n",
    "    numdoc = input('Введите номер документа: ')\n",
    "    for directory in directories:\n",
    "        if numdoc in directories[directory]:\n",
    "            print('Документ', numdoc, 'на полке', directory)\n",
    "            return True\n",
    "    print('Такого документа нет')\n",
    "    return False"
   ]
  },
  {
   "cell_type": "code",
   "execution_count": 19,
   "metadata": {},
   "outputs": [
    {
     "name": "stdout",
     "output_type": "stream",
     "text": [
      "Введите номер документа: 11-2\n",
      "Документ 11-2 на полке 1\n"
     ]
    },
    {
     "data": {
      "text/plain": [
       "True"
      ]
     },
     "execution_count": 19,
     "metadata": {},
     "output_type": "execute_result"
    }
   ],
   "source": [
    "shelfnumber4doc()"
   ]
  },
  {
   "cell_type": "code",
   "execution_count": 24,
   "metadata": {},
   "outputs": [],
   "source": [
    "#команда l\n",
    "\n",
    "def list_documents(documents):\n",
    "    dcs = []\n",
    "    for document in documents:\n",
    "        dcs = []\n",
    "        #dcs.append(document.values().split(','))\n",
    "     #   sa = document.get('type')\n",
    "        dcs.append(document.get('type'))\n",
    "        dcs.append(document.get('number'))\n",
    "        dcs.append(document.get('name'))\n",
    "        docs = ' '.join(dcs)\n",
    "        print(docs)\n",
    "    #dcs.append(document.get('type'))\n",
    "    #print(document.values()[0])"
   ]
  },
  {
   "cell_type": "code",
   "execution_count": 25,
   "metadata": {},
   "outputs": [
    {
     "name": "stdout",
     "output_type": "stream",
     "text": [
      "passport 2207 876234 Василий Гупкин\n",
      "invoice 11-2 Геннадий Покемонов\n",
      "insurance 10006 Аристарх Павлов\n"
     ]
    }
   ],
   "source": [
    "list_documents(documents)"
   ]
  },
  {
   "cell_type": "code",
   "execution_count": 24,
   "metadata": {},
   "outputs": [],
   "source": [
    "# команда as\n",
    "\n",
    "def add_shelf(directories):\n",
    "    lendir = len(directories)\n",
    "    print(directories.keys())\n",
    "    n = int(input('Введите номер следующей полки:'))\n",
    "    directories[str(n)] = []\n",
    "    print(directories.keys())\n",
    "    print(directories)\n",
    "# add_shelf(directories)\n"
   ]
  },
  {
   "cell_type": "code",
   "execution_count": 25,
   "metadata": {},
   "outputs": [
    {
     "name": "stdout",
     "output_type": "stream",
     "text": [
      "dict_keys(['1', '2', '3'])\n",
      "Введите номер следующей полки:4\n",
      "dict_keys(['1', '2', '3', '4'])\n",
      "{'1': ['2207 876234', '11-2', '5455 028765'], '2': ['10006', '5400 028765', '5455 002299'], '3': [], '4': []}\n"
     ]
    }
   ],
   "source": [
    "add_shelf(directories)"
   ]
  },
  {
   "cell_type": "code",
   "execution_count": 19,
   "metadata": {},
   "outputs": [],
   "source": [
    "#команда d\n",
    "\n",
    "def docsdirdel4doc():\n",
    "    numdoc = input('Введите номер документа: ')\n",
    "    for document in documents:\n",
    "        for j in range(len(document)):\n",
    "            if document.get('number') == numdoc:\n",
    "                print('Документ с номером', numdoc, 'и данными', document, 'удаляется')\n",
    "                documents.remove(document)\n",
    "                print('Документ с номером', numdoc, 'удалён из каталога')\n",
    "                print('Убедитесь: ', documents)                \n",
    "                break\n",
    "    for directory in directories:\n",
    "        if numdoc in directories[directory]:\n",
    "            directories[directory].remove(numdoc)\n",
    "            print('Документ с номером', numdoc, 'удалён с полки', directory)\n",
    "            print('Убедитесь: ', directories[directory])\n",
    "            return True\n",
    "    print('Такого документа нет!')\n",
    "    contornot = input('Для повторной попытки введите c для прекращения s:')\n",
    "    if contornot == 'c':\n",
    "        docsdirdel4doc()\n",
    "    elif contornot == 's':\n",
    "        return True\n",
    "    print('Явно не то нажали. Попыток больше нет!')\n",
    "    return False"
   ]
  },
  {
   "cell_type": "code",
   "execution_count": 21,
   "metadata": {},
   "outputs": [
    {
     "name": "stdout",
     "output_type": "stream",
     "text": [
      "Введите номер документа: 2345\n",
      "Такого документа нет!\n",
      "Для повторной попытки введите c\n",
      " для прекращения s:c\n",
      "Введите номер документа: 32\n",
      "Такого документа нет!\n",
      "Для повторной попытки введите c\n",
      " для прекращения s:s\n",
      "Явно не то нажали. Попыток больше нет!\n"
     ]
    },
    {
     "data": {
      "text/plain": [
       "False"
      ]
     },
     "execution_count": 21,
     "metadata": {},
     "output_type": "execute_result"
    }
   ],
   "source": [
    "docsdirdel4doc()"
   ]
  },
  {
   "cell_type": "code",
   "execution_count": 16,
   "metadata": {},
   "outputs": [],
   "source": [
    "# команда m\n",
    "\n",
    "def movenewshelf():\n",
    "    numdoc = input('Введите номер документа:') # какой тип нужен?\n",
    "    newshelf = input('Введите целевую полку:') # сравнить с функциями.\n",
    "    if int(newshelf) > len(directories):\n",
    "        print('Номер полки должен быть не больше или равен', len(directories))\n",
    "        newshelf = input('Повторно введите целевую полку:')\n",
    "# Надо найти документ по названию\n",
    "    for directory in directories:\n",
    "        if numdoc in directories[directory]:\n",
    "            directories[directory].remove(numdoc)\n",
    "            print('Документ с номером', numdoc, 'удалён с полки', directory)\n",
    "            print('Убедитесь: ', directory, directories[directory])\n",
    "            directories[str(newshelf)].append(numdoc)\n",
    "            print('Документ с номером', numdoc, 'перемещён на полку', newshelf)\n",
    "            print('Убедитесь: ', newshelf, directories[newshelf])\n",
    "            return True\n",
    "    print('Такого документа нет!')\n",
    "    contornot = input('Для повторной попытки введите c для прекращения s:')\n",
    "    if contornot == 'c':\n",
    "        docsdirdel4doc()\n",
    "    elif contornot == 's':\n",
    "        return True\n",
    "    print('Явно не то нажали. Попыток больше нет!')\n",
    "    return False"
   ]
  },
  {
   "cell_type": "code",
   "execution_count": 17,
   "metadata": {},
   "outputs": [
    {
     "name": "stdout",
     "output_type": "stream",
     "text": [
      "Введите номер документа:5400 028765\n",
      "Введите целевую полку:4\n",
      "Номер полки должен быть не больше или равен 3\n",
      "Повторно введите целевую полку:2\n",
      "Документ с номером 5400 028765 удалён с полки 2\n",
      "Убедитесь:  2 ['10006', '5455 002299']\n",
      "Документ с номером 5400 028765 перемещён на полку 2\n",
      "Убедитесь:  2 ['10006', '5455 002299', '5400 028765']\n"
     ]
    },
    {
     "data": {
      "text/plain": [
       "True"
      ]
     },
     "execution_count": 17,
     "metadata": {},
     "output_type": "execute_result"
    }
   ],
   "source": [
    "movenewshelf()"
   ]
  },
  {
   "cell_type": "code",
   "execution_count": 3,
   "metadata": {},
   "outputs": [],
   "source": [
    "# команда a\n",
    "\n",
    "def add_newdoc(documents, directories):\n",
    "    docanddir() # Внизу определил эту функцию и сюда добавил (опционально, проверить) \n",
    "    doctype = input('Введите тип документа (passport|invoice|insurance or other): ')\n",
    "    docnumber = input('Введите номер документа: ')\n",
    "    docname = input('Введите имя владельца: ')\n",
    "    docnumbershelf = input('Введите номер существующей полки: ')\n",
    "    documents.append({'type': doctype, 'number': docnumber, 'name': docname})\n",
    "    directories[str(docnumbershelf)].append(docnumber)\n",
    "    print(documents)\n",
    "    print(directories)\n",
    "    \n",
    "def docanddir():   # Показывает текущее положение дел.\n",
    "    lendoc = len(documents)\n",
    "    lendir = len(directories)\n",
    "    print('Число документов в базе: ', lendoc, 'Количество полок: ', lendir)"
   ]
  },
  {
   "cell_type": "code",
   "execution_count": 4,
   "metadata": {},
   "outputs": [
    {
     "name": "stdout",
     "output_type": "stream",
     "text": [
      "Число документов в базе:  3 Количество полок:  3\n",
      "Введите тип документа (passport|invoice|insurance or other): permis de conduire\n",
      "Введите номер документа: FG51651852\n",
      "Введите имя владельца: Fitro Stickin\n",
      "Введите номер существующей полки: 3\n",
      "[{'type': 'passport', 'number': '2207 876234', 'name': 'Василий Гупкин'}, {'type': 'invoice', 'number': '11-2', 'name': 'Геннадий Покемонов'}, {'type': 'insurance', 'number': '10006', 'name': 'Аристарх Павлов'}, {'type': 'permis de conduire', 'number': 'FG51651852', 'name': 'Fitro Stickin'}]\n",
      "{'1': ['2207 876234', '11-2', '5455 028765'], '2': ['10006', '5400 028765', '5455 002299'], '3': ['FG51651852']}\n"
     ]
    }
   ],
   "source": [
    "add_newdoc(documents, directories)"
   ]
  },
  {
   "cell_type": "code",
   "execution_count": 19,
   "metadata": {},
   "outputs": [
    {
     "name": "stdout",
     "output_type": "stream",
     "text": [
      "{'1': ['2207 876234', '11-2', '5455 028765'], '2': ['10006', '5400 028765', '5455 002299'], '3': []}\n"
     ]
    }
   ],
   "source": [
    "print(directories)"
   ]
  },
  {
   "cell_type": "code",
   "execution_count": 7,
   "metadata": {},
   "outputs": [],
   "source": [
    "def docanddir():\n",
    "    lendoc = len(documents)\n",
    "    lendir = len(directories)\n",
    "    print('Число документов в базе: ', lendoc, 'Количество полок: ', lendir)"
   ]
  },
  {
   "cell_type": "code",
   "execution_count": null,
   "metadata": {},
   "outputs": [],
   "source": []
  }
 ],
 "metadata": {
  "kernelspec": {
   "display_name": "Python 3",
   "language": "python",
   "name": "python3"
  },
  "language_info": {
   "codemirror_mode": {
    "name": "ipython",
    "version": 3
   },
   "file_extension": ".py",
   "mimetype": "text/x-python",
   "name": "python",
   "nbconvert_exporter": "python",
   "pygments_lexer": "ipython3",
   "version": "3.7.4"
  }
 },
 "nbformat": 4,
 "nbformat_minor": 2
}
